{
 "cells": [
  {
   "cell_type": "code",
   "execution_count": 99,
   "metadata": {},
   "outputs": [],
   "source": [
    "import numpy as np\n",
    "from sklearn.decomposition import PCA\n",
    "from tqdm.auto import tqdm"
   ]
  },
  {
   "cell_type": "code",
   "execution_count": 100,
   "metadata": {},
   "outputs": [
    {
     "name": "stderr",
     "output_type": "stream",
     "text": [
      "Processing matrices: 100%|██████████| 10000/10000 [00:04<00:00, 2259.99it/s]"
     ]
    },
    {
     "name": "stdout",
     "output_type": "stream",
     "text": [
      "Number of reconstructions with values outside of [0, 100]: 626\n"
     ]
    },
    {
     "name": "stderr",
     "output_type": "stream",
     "text": [
      "\n"
     ]
    }
   ],
   "source": [
    "# Parameters\n",
    "num_matrices = 10000\n",
    "n = 3  # Number of rows\n",
    "d = 2   # Number of columns\n",
    "min_val = 0\n",
    "max_val = 100\n",
    "tolerance = 1e-10  # Adjust this value based on your tolerance for rounding errors\n",
    "\n",
    "# Generate random matrices\n",
    "random_matrices = [np.random.randint(min_val, max_val+1, size=(n, d)) for _ in range(num_matrices)]\n",
    "\n",
    "# PCA and reconstruction\n",
    "reconstructions_outside_range = 0\n",
    "paragon = None\n",
    "minimum = 0\n",
    "\n",
    "for i, matrix in enumerate(tqdm(random_matrices, desc=\"Processing matrices\")):\n",
    "    pca = PCA(n_components=1)\n",
    "    A = pca.fit_transform(matrix)\n",
    "    reconstructed_matrix = pca.inverse_transform(A)\n",
    "    \n",
    "    # Check if any value is outside the range\n",
    "    # if np.any((reconstructed_matrix < min_val - tolerance) | (reconstructed_matrix > max_val + tolerance)):\n",
    "\n",
    "    # Check if any value is negative\n",
    "    if np.any(reconstructed_matrix < min_val - tolerance):\n",
    "        if np.min(reconstructed_matrix) < minimum:\n",
    "            paragon = matrix\n",
    "            minimum = np.min(matrix)\n",
    "        reconstructions_outside_range += 1\n",
    "\n",
    "print(f\"Number of reconstructions with values outside of [{min_val}, {max_val}]: {reconstructions_outside_range}\")"
   ]
  },
  {
   "cell_type": "code",
   "execution_count": 101,
   "metadata": {},
   "outputs": [
    {
     "data": {
      "text/plain": [
       "array([[ 1, 49],\n",
       "       [69, 90],\n",
       "       [26, 99]])"
      ]
     },
     "execution_count": 101,
     "metadata": {},
     "output_type": "execute_result"
    }
   ],
   "source": [
    "paragon"
   ]
  },
  {
   "cell_type": "code",
   "execution_count": 102,
   "metadata": {},
   "outputs": [
    {
     "data": {
      "text/plain": [
       "array([[-3.24941533, 55.20907927],\n",
       "       [62.16926767, 99.98079859],\n",
       "       [37.08014766, 82.81012214]])"
      ]
     },
     "execution_count": 102,
     "metadata": {},
     "output_type": "execute_result"
    }
   ],
   "source": [
    "A = pca.fit_transform(paragon)\n",
    "pca.inverse_transform(A)"
   ]
  },
  {
   "cell_type": "code",
   "execution_count": 103,
   "metadata": {},
   "outputs": [
    {
     "name": "stderr",
     "output_type": "stream",
     "text": [
      "Processing matrices: 100%|██████████| 10000/10000 [00:04<00:00, 2079.92it/s]"
     ]
    },
    {
     "name": "stdout",
     "output_type": "stream",
     "text": [
      "Number of reconstructions with different row sums: 9986\n"
     ]
    },
    {
     "name": "stderr",
     "output_type": "stream",
     "text": [
      "\n"
     ]
    }
   ],
   "source": [
    "# Parameters\n",
    "num_matrices = 10000\n",
    "n = 3  # Number of rows\n",
    "d = 2   # Number of columns\n",
    "min_val = 0\n",
    "max_val = 100\n",
    "tolerance = 1e-10  # Adjust this value based on your tolerance for rounding errors\n",
    "\n",
    "# Function to check if row sums are preserved\n",
    "def check_row_sums(matrix1, matrix2, tol):\n",
    "    row_sums1 = np.sum(matrix1, axis=1)\n",
    "    row_sums2 = np.sum(matrix2, axis=1)\n",
    "    return np.all(np.abs(row_sums1 - row_sums2) < tol)\n",
    "\n",
    "# Generate random matrices\n",
    "random_matrices = [np.random.randint(min_val, max_val+1, size=(n, d)) for _ in range(num_matrices)]\n",
    "\n",
    "# PCA and reconstruction\n",
    "reconstructions_with_different_row_sums = 0\n",
    "\n",
    "for i, matrix in enumerate(tqdm(random_matrices, desc=\"Processing matrices\")):\n",
    "    pca = PCA(n_components=1)\n",
    "    A = pca.fit_transform(matrix)\n",
    "    reconstructed_matrix = pca.inverse_transform(A)\n",
    "    \n",
    "    # Check if row sums are preserved\n",
    "    if not check_row_sums(matrix, reconstructed_matrix, tolerance):\n",
    "        paragon = matrix\n",
    "        reconstructions_with_different_row_sums += 1\n",
    "\n",
    "print(f\"Number of reconstructions with different row sums: {reconstructions_with_different_row_sums}\")"
   ]
  },
  {
   "cell_type": "code",
   "execution_count": 104,
   "metadata": {},
   "outputs": [
    {
     "data": {
      "text/plain": [
       "array([[99, 16],\n",
       "       [58, 26],\n",
       "       [29,  3]])"
      ]
     },
     "execution_count": 104,
     "metadata": {},
     "output_type": "execute_result"
    }
   ],
   "source": [
    "paragon"
   ]
  },
  {
   "cell_type": "code",
   "execution_count": 105,
   "metadata": {},
   "outputs": [
    {
     "data": {
      "text/plain": [
       "array([[98.11469265, 21.17649564],\n",
       "       [59.94147943, 14.64794264],\n",
       "       [27.94382792,  9.17556172]])"
      ]
     },
     "execution_count": 105,
     "metadata": {},
     "output_type": "execute_result"
    }
   ],
   "source": [
    "A = pca.fit_transform(paragon)\n",
    "pca.inverse_transform(A)"
   ]
  }
 ],
 "metadata": {
  "kernelspec": {
   "display_name": "Python 3",
   "language": "python",
   "name": "python3"
  },
  "language_info": {
   "codemirror_mode": {
    "name": "ipython",
    "version": 3
   },
   "file_extension": ".py",
   "mimetype": "text/x-python",
   "name": "python",
   "nbconvert_exporter": "python",
   "pygments_lexer": "ipython3",
   "version": "3.12.0"
  }
 },
 "nbformat": 4,
 "nbformat_minor": 2
}
