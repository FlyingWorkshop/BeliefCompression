{
 "cells": [
  {
   "cell_type": "code",
   "execution_count": 135,
   "metadata": {},
   "outputs": [],
   "source": [
    "import numpy as np\n",
    "from sklearn.decomposition import PCA\n",
    "from tqdm.auto import tqdm"
   ]
  },
  {
   "cell_type": "code",
   "execution_count": 136,
   "metadata": {},
   "outputs": [
    {
     "name": "stderr",
     "output_type": "stream",
     "text": [
      "Processing matrices: 100%|██████████| 10000/10000 [00:05<00:00, 1925.09it/s]"
     ]
    },
    {
     "name": "stdout",
     "output_type": "stream",
     "text": [
      "Number of reconstructions with values outside of [0, 1]: 3655\n"
     ]
    },
    {
     "name": "stderr",
     "output_type": "stream",
     "text": [
      "\n"
     ]
    }
   ],
   "source": [
    "# Parameters\n",
    "num_matrices = 10000\n",
    "n = 10  # Number of rows\n",
    "d = 5   # Number of columns\n",
    "min_val = 0\n",
    "max_val = 1\n",
    "tolerance = 1e-10  # Adjust this value based on your tolerance for rounding errors\n",
    "\n",
    "# Generate random matrices\n",
    "random_matrices = [np.random.randint(min_val, max_val+1, size=(n, d)) for _ in range(num_matrices)]\n",
    "\n",
    "# PCA and reconstruction\n",
    "reconstructions_outside_range = 0\n",
    "paragon = None\n",
    "minimum = 0\n",
    "\n",
    "for _ in tqdm(range(num_matrices), desc=\"Processing matrices\"):\n",
    "    matrix = np.random.random(size=(n, d))\n",
    "    matrix /= matrix.sum(axis=1, keepdims=True)\n",
    "    pca = PCA(n_components=1)\n",
    "    A = pca.fit_transform(matrix)\n",
    "    reconstructed_matrix = pca.inverse_transform(A)\n",
    "    \n",
    "    # Check if any value is outside the range\n",
    "    # if np.any((reconstructed_matrix < min_val - tolerance) | (reconstructed_matrix > max_val + tolerance)):\n",
    "\n",
    "    # Check if any value is negative\n",
    "    if np.any(reconstructed_matrix < min_val - tolerance):\n",
    "        if np.min(reconstructed_matrix) < minimum:\n",
    "            paragon = matrix\n",
    "            minimum = np.min(matrix)\n",
    "        reconstructions_outside_range += 1\n",
    "\n",
    "print(f\"Number of reconstructions with values outside of [{min_val}, {max_val}]: {reconstructions_outside_range}\")"
   ]
  },
  {
   "cell_type": "code",
   "execution_count": 137,
   "metadata": {},
   "outputs": [
    {
     "name": "stdout",
     "output_type": "stream",
     "text": [
      "[[0.25944914 0.26734662 0.0008538  0.21112576 0.26122468]\n",
      " [0.32044705 0.11337919 0.2216623  0.10736411 0.23714734]\n",
      " [0.24054889 0.29888929 0.02668814 0.15126941 0.28260428]\n",
      " [0.3877314  0.12467426 0.2941819  0.00899652 0.18441592]\n",
      " [0.03905612 0.40058049 0.07242566 0.13468653 0.35325119]\n",
      " [0.3091033  0.14409661 0.04333382 0.03718852 0.46627775]\n",
      " [0.27801028 0.25270589 0.09457412 0.20627081 0.16843889]\n",
      " [0.37738357 0.0088225  0.3081965  0.25698907 0.04860837]\n",
      " [0.25981592 0.27078162 0.31015856 0.13729919 0.02194471]\n",
      " [0.17431448 0.1624108  0.26233254 0.08460389 0.31633829]]\n"
     ]
    }
   ],
   "source": [
    "print(paragon)"
   ]
  },
  {
   "cell_type": "code",
   "execution_count": 138,
   "metadata": {},
   "outputs": [
    {
     "data": {
      "text/plain": [
       "array([[ 0.21317418,  0.26344046,  0.08592317,  0.12640722,  0.31105497],\n",
       "       [ 0.29956131,  0.16418243,  0.21617567,  0.13845857,  0.18162202],\n",
       "       [ 0.20492485,  0.27291887,  0.07348502,  0.1252564 ,  0.32341486],\n",
       "       [ 0.33294382,  0.12582623,  0.26650903,  0.14311557,  0.13160535],\n",
       "       [ 0.15278997,  0.33282137, -0.00512273,  0.11798338,  0.40152801],\n",
       "       [ 0.20206639,  0.27620321,  0.0691751 ,  0.12485764,  0.32769766],\n",
       "       [ 0.25911172,  0.21065865,  0.15518671,  0.13281569,  0.24222723],\n",
       "       [ 0.3886417 ,  0.06182987,  0.35048899,  0.15088565,  0.04815379],\n",
       "       [ 0.33143103,  0.12756441,  0.26422808,  0.14290453,  0.13387195],\n",
       "       [ 0.2612152 ,  0.20824176,  0.1583583 ,  0.13310914,  0.2390756 ]])"
      ]
     },
     "execution_count": 138,
     "metadata": {},
     "output_type": "execute_result"
    }
   ],
   "source": [
    "A = pca.fit_transform(paragon)\n",
    "pca.inverse_transform(A)"
   ]
  },
  {
   "cell_type": "code",
   "execution_count": 139,
   "metadata": {},
   "outputs": [
    {
     "name": "stderr",
     "output_type": "stream",
     "text": [
      "Processing matrices: 100%|██████████| 10000/10000 [00:05<00:00, 1866.33it/s]"
     ]
    },
    {
     "name": "stdout",
     "output_type": "stream",
     "text": [
      "Number of reconstructions with different row sums: 0\n"
     ]
    },
    {
     "name": "stderr",
     "output_type": "stream",
     "text": [
      "\n"
     ]
    }
   ],
   "source": [
    "# Parameters\n",
    "num_matrices = 10000\n",
    "n = 10  # Number of rows\n",
    "d = 20   # Number of columns\n",
    "min_val = 0\n",
    "max_val = 1\n",
    "tolerance = 1e-10  # Adjust this value based on your tolerance for rounding errors\n",
    "\n",
    "# Function to check if row sums are preserved\n",
    "def check_row_sums(matrix1, matrix2, tol):\n",
    "    row_sums1 = np.sum(matrix1, axis=1)\n",
    "    row_sums2 = np.sum(matrix2, axis=1)\n",
    "    return np.all(np.abs(row_sums1 - row_sums2) < tol)\n",
    "\n",
    "# PCA and reconstruction\n",
    "reconstructions_with_different_row_sums = 0\n",
    "\n",
    "for _ in tqdm(range(num_matrices), desc=\"Processing matrices\"):\n",
    "    matrix = np.random.random(size=(n, d))\n",
    "    matrix /= matrix.sum(axis=1, keepdims=True)\n",
    "    pca = PCA(n_components=1)\n",
    "    A = pca.fit_transform(matrix)\n",
    "    reconstructed_matrix = pca.inverse_transform(A)\n",
    "    \n",
    "    # Check if row sums are preserved\n",
    "    if not check_row_sums(matrix, reconstructed_matrix, tolerance):\n",
    "        paragon = matrix\n",
    "        reconstructions_with_different_row_sums += 1\n",
    "\n",
    "print(f\"Number of reconstructions with different row sums: {reconstructions_with_different_row_sums}\")"
   ]
  },
  {
   "cell_type": "code",
   "execution_count": 140,
   "metadata": {},
   "outputs": [
    {
     "data": {
      "text/plain": [
       "array([[0.25944914, 0.26734662, 0.0008538 , 0.21112576, 0.26122468],\n",
       "       [0.32044705, 0.11337919, 0.2216623 , 0.10736411, 0.23714734],\n",
       "       [0.24054889, 0.29888929, 0.02668814, 0.15126941, 0.28260428],\n",
       "       [0.3877314 , 0.12467426, 0.2941819 , 0.00899652, 0.18441592],\n",
       "       [0.03905612, 0.40058049, 0.07242566, 0.13468653, 0.35325119],\n",
       "       [0.3091033 , 0.14409661, 0.04333382, 0.03718852, 0.46627775],\n",
       "       [0.27801028, 0.25270589, 0.09457412, 0.20627081, 0.16843889],\n",
       "       [0.37738357, 0.0088225 , 0.3081965 , 0.25698907, 0.04860837],\n",
       "       [0.25981592, 0.27078162, 0.31015856, 0.13729919, 0.02194471],\n",
       "       [0.17431448, 0.1624108 , 0.26233254, 0.08460389, 0.31633829]])"
      ]
     },
     "execution_count": 140,
     "metadata": {},
     "output_type": "execute_result"
    }
   ],
   "source": [
    "paragon"
   ]
  },
  {
   "cell_type": "code",
   "execution_count": 141,
   "metadata": {},
   "outputs": [
    {
     "data": {
      "text/plain": [
       "array([[ 0.21317418,  0.26344046,  0.08592317,  0.12640722,  0.31105497],\n",
       "       [ 0.29956131,  0.16418243,  0.21617567,  0.13845857,  0.18162202],\n",
       "       [ 0.20492485,  0.27291887,  0.07348502,  0.1252564 ,  0.32341486],\n",
       "       [ 0.33294382,  0.12582623,  0.26650903,  0.14311557,  0.13160535],\n",
       "       [ 0.15278997,  0.33282137, -0.00512273,  0.11798338,  0.40152801],\n",
       "       [ 0.20206639,  0.27620321,  0.0691751 ,  0.12485764,  0.32769766],\n",
       "       [ 0.25911172,  0.21065865,  0.15518671,  0.13281569,  0.24222723],\n",
       "       [ 0.3886417 ,  0.06182987,  0.35048899,  0.15088565,  0.04815379],\n",
       "       [ 0.33143103,  0.12756441,  0.26422808,  0.14290453,  0.13387195],\n",
       "       [ 0.2612152 ,  0.20824176,  0.1583583 ,  0.13310914,  0.2390756 ]])"
      ]
     },
     "execution_count": 141,
     "metadata": {},
     "output_type": "execute_result"
    }
   ],
   "source": [
    "A = pca.fit_transform(paragon)\n",
    "pca.inverse_transform(A)"
   ]
  }
 ],
 "metadata": {
  "kernelspec": {
   "display_name": "Python 3",
   "language": "python",
   "name": "python3"
  },
  "language_info": {
   "codemirror_mode": {
    "name": "ipython",
    "version": 3
   },
   "file_extension": ".py",
   "mimetype": "text/x-python",
   "name": "python",
   "nbconvert_exporter": "python",
   "pygments_lexer": "ipython3",
   "version": "3.12.0"
  }
 },
 "nbformat": 4,
 "nbformat_minor": 2
}
