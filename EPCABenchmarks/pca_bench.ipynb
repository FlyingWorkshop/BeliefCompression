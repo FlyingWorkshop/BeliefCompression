{
 "cells": [
  {
   "cell_type": "code",
   "execution_count": 6,
   "metadata": {},
   "outputs": [],
   "source": [
    "import numpy as np\n",
    "from sklearn.decomposition import PCA\n",
    "from tqdm.auto import tqdm"
   ]
  },
  {
   "cell_type": "code",
   "execution_count": 7,
   "metadata": {},
   "outputs": [
    {
     "name": "stderr",
     "output_type": "stream",
     "text": [
      "Processing matrices: 100%|██████████| 10000/10000 [00:08<00:00, 1148.86it/s]"
     ]
    },
    {
     "name": "stdout",
     "output_type": "stream",
     "text": [
      "Number of reconstructions with values outside of [0, 100]: 0\n"
     ]
    },
    {
     "name": "stderr",
     "output_type": "stream",
     "text": [
      "\n"
     ]
    }
   ],
   "source": [
    "# Parameters\n",
    "num_matrices = 10000\n",
    "n = 10  # Number of rows\n",
    "d = 5   # Number of columns\n",
    "min_val = 0\n",
    "max_val = 100\n",
    "tolerance = 1e-10  # Adjust this value based on your tolerance for rounding errors\n",
    "\n",
    "# Generate random matrices\n",
    "random_matrices = [np.random.randint(min_val, max_val+1, size=(n, d)) for _ in range(num_matrices)]\n",
    "\n",
    "# PCA and reconstruction\n",
    "reconstructions_outside_range = 0\n",
    "\n",
    "for i, matrix in enumerate(tqdm(random_matrices, desc=\"Processing matrices\")):\n",
    "    pca = PCA(n_components=d)\n",
    "    pca.fit(matrix)\n",
    "    reconstructed_matrix = pca.inverse_transform(pca.transform(matrix))\n",
    "    \n",
    "    # Check if any value is outside the range\n",
    "    if np.any((reconstructed_matrix < min_val - tolerance) | (reconstructed_matrix > max_val + tolerance)):\n",
    "        reconstructions_outside_range += 1\n",
    "\n",
    "print(f\"Number of reconstructions with values outside of [{min_val}, {max_val}]: {reconstructions_outside_range}\")"
   ]
  },
  {
   "cell_type": "code",
   "execution_count": 8,
   "metadata": {},
   "outputs": [
    {
     "name": "stderr",
     "output_type": "stream",
     "text": [
      "Processing matrices: 100%|██████████| 10000/10000 [00:07<00:00, 1346.66it/s]"
     ]
    },
    {
     "name": "stdout",
     "output_type": "stream",
     "text": [
      "Number of reconstructions with different row sums: 0\n"
     ]
    },
    {
     "name": "stderr",
     "output_type": "stream",
     "text": [
      "\n"
     ]
    }
   ],
   "source": [
    "# Parameters\n",
    "num_matrices = 10000\n",
    "n = 10  # Number of rows\n",
    "d = 5   # Number of columns\n",
    "min_val = 0\n",
    "max_val = 100\n",
    "tolerance = 1e-10  # Adjust this value based on your tolerance for rounding errors\n",
    "\n",
    "# Function to check if row sums are preserved\n",
    "def check_row_sums(matrix1, matrix2, tol):\n",
    "    row_sums1 = np.sum(matrix1, axis=1)\n",
    "    row_sums2 = np.sum(matrix2, axis=1)\n",
    "    return np.all(np.abs(row_sums1 - row_sums2) < tol)\n",
    "\n",
    "# Generate random matrices\n",
    "random_matrices = [np.random.randint(min_val, max_val+1, size=(n, d)) for _ in range(num_matrices)]\n",
    "\n",
    "# PCA and reconstruction\n",
    "reconstructions_with_different_row_sums = 0\n",
    "\n",
    "for i, matrix in enumerate(tqdm(random_matrices, desc=\"Processing matrices\")):\n",
    "    pca = PCA(n_components=d)\n",
    "    pca.fit(matrix)\n",
    "    reconstructed_matrix = pca.inverse_transform(pca.transform(matrix))\n",
    "    \n",
    "    # Check if row sums are preserved\n",
    "    if not check_row_sums(matrix, reconstructed_matrix, tolerance):\n",
    "        reconstructions_with_different_row_sums += 1\n",
    "\n",
    "print(f\"Number of reconstructions with different row sums: {reconstructions_with_different_row_sums}\")"
   ]
  }
 ],
 "metadata": {
  "kernelspec": {
   "display_name": "Python 3",
   "language": "python",
   "name": "python3"
  },
  "language_info": {
   "codemirror_mode": {
    "name": "ipython",
    "version": 3
   },
   "file_extension": ".py",
   "mimetype": "text/x-python",
   "name": "python",
   "nbconvert_exporter": "python",
   "pygments_lexer": "ipython3",
   "version": "3.12.0"
  }
 },
 "nbformat": 4,
 "nbformat_minor": 2
}
