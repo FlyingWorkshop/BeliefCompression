{
 "cells": [
  {
   "cell_type": "code",
   "execution_count": 1,
   "metadata": {},
   "outputs": [],
   "source": [
    "using BenchmarkTools, RDatasets, Plots"
   ]
  },
  {
   "cell_type": "code",
   "execution_count": 7,
   "metadata": {},
   "outputs": [],
   "source": [
    "# load iris dataset\n",
    "iris = dataset(\"datasets\", \"iris\")\n",
    "\n",
    "# split half to training set\n",
    "Xtr = Matrix(iris[1:2:end,1:4])\n",
    "Xtr_labels = Vector(iris[1:2:end,5])\n",
    "\n",
    "# split other half to testing set\n",
    "Xte = Matrix(iris[2:2:end,1:4])\n",
    "Xte_labels = Vector(iris[2:2:end,5]);"
   ]
  },
  {
   "cell_type": "code",
   "execution_count": 3,
   "metadata": {},
   "outputs": [],
   "source": [
    "using Revise\n",
    "using ExpFamilyPCA"
   ]
  },
  {
   "cell_type": "code",
   "execution_count": 6,
   "metadata": {},
   "outputs": [
    {
     "name": "stdout",
     "output_type": "stream",
     "text": [
      "Iteration: 1/100 | Loss: 50.666060438300995\n",
      "Iteration: 10/100 | Loss: 4.625855594711395\n",
      "Iteration: 20/100 | Loss: 3.519002794344326\n",
      "Iteration: 30/100 | Loss: 3.164566443003272\n",
      "Iteration: 40/100 | Loss: 3.002771480502954\n",
      "Iteration: 50/100 | Loss: 2.855615251963713\n",
      "Iteration: 60/100 | Loss: 2.813705853116416\n",
      "Iteration: 70/100 | Loss: 2.813705853116416\n",
      "Iteration: 80/100 | Loss: 2.813705853116416\n",
      "Iteration: 90/100 | Loss: 2.813705853116416\n",
      "Iteration: 100/100 | Loss: 2.813705853116416\n"
     ]
    },
    {
     "data": {
      "text/plain": [
       "75×3 Matrix{Float64}:\n",
       " 0.923188  1.05654   1.65296\n",
       " 0.913917  1.04342   1.66277\n",
       " 0.92129   1.04729   1.64053\n",
       " 0.918524  1.03881   1.64237\n",
       " 0.912674  1.03652   1.10094\n",
       " 0.925753  1.05322   1.65173\n",
       " 0.915103  1.04683   1.08112\n",
       " 0.923255  1.06126   1.62408\n",
       " 0.924238  1.05093   1.63819\n",
       " 0.927214  1.0542    1.6376\n",
       " ⋮                   \n",
       " 1.03026   1.00053   1.66897\n",
       " 1.0234    1.01336   1.09352\n",
       " 1.03936   0.997398  2.50523\n",
       " 1.01458   1.00805   1.6453\n",
       " 1.03578   1.01063   1.64301\n",
       " 1.01827   0.998606  1.65228\n",
       " 1.04163   1.00611   1.66713\n",
       " 1.01696   1.00809   1.06961\n",
       " 1.03274   1.00071   2.50893"
      ]
     },
     "metadata": {},
     "output_type": "display_data"
    }
   ],
   "source": [
    "explicit = PoissonEPCA()\n",
    "explicit_A = fit!(explicit, Xtr; maxoutdim=3, verbose=true, maxiter=100, steps_per_print=10)"
   ]
  },
  {
   "cell_type": "code",
   "execution_count": 8,
   "metadata": {},
   "outputs": [
    {
     "name": "stdout",
     "output_type": "stream",
     "text": [
      "Iteration: 1/100 | Loss: -704.1463309280989\n",
      "Iteration: 10/100 | Loss: -884.7383173626084\n",
      "Iteration: 20/100 | Loss: NaN\n",
      "Iteration: 30/100 | Loss: NaN\n",
      "Iteration: 40/100 | Loss: NaN\n",
      "Iteration: 50/100 | Loss: NaN\n",
      "Iteration: 60/100 | Loss: NaN\n",
      "Iteration: 70/100 | Loss: NaN\n",
      "Iteration: 80/100 | Loss: NaN\n",
      "Iteration: 90/100 | Loss: NaN\n",
      "Iteration: 100/100 | Loss: NaN\n"
     ]
    },
    {
     "data": {
      "text/plain": [
       "75×3 Matrix{Float64}:\n",
       " 0.947084  1.00642  1.56287\n",
       " 0.934675  1.00812  1.1663\n",
       " 0.944017  1.00941  1.25496\n",
       " 0.933698  1.00973  1.15692\n",
       " 0.927211  1.01077  1.08438\n",
       " 0.956577  1.00996  1.56025\n",
       " 0.936157  1.00551  1.14514\n",
       " 0.969005  1.0088   1.55904\n",
       " 0.955736  1.00939  1.5616\n",
       " 0.965365  1.01091  1.55536\n",
       " ⋮                  \n",
       " 1.01346   1.01822  1.02729\n",
       " 1.00633   1.01557  1.02067\n",
       " 1.01092   1.01879  1.03139\n",
       " 0.996316  1.02055  1.01505\n",
       " 1.01766   1.01956  1.02984\n",
       " 0.997077  1.02204  1.01511\n",
       " 1.02177   1.02104  1.01737\n",
       " 1.00501   1.02212  1.02262\n",
       " 1.00825   1.02035  1.02571"
      ]
     },
     "metadata": {},
     "output_type": "display_data"
    }
   ],
   "source": [
    "implicit = EPCA(x->exp(x))\n",
    "implicit_A = fit!(implicit, Xtr; maxoutdim=3, verbose=true, maxiter=100, steps_per_print=10)"
   ]
  }
 ],
 "metadata": {
  "kernelspec": {
   "display_name": "Julia 1.10.3",
   "language": "julia",
   "name": "julia-1.10"
  },
  "language_info": {
   "file_extension": ".jl",
   "mimetype": "application/julia",
   "name": "julia",
   "version": "1.10.3"
  }
 },
 "nbformat": 4,
 "nbformat_minor": 2
}
