{
 "cells": [
  {
   "cell_type": "code",
   "execution_count": 95,
   "metadata": {},
   "outputs": [],
   "source": [
    "using MultivariateStats"
   ]
  },
  {
   "cell_type": "code",
   "execution_count": 96,
   "metadata": {},
   "outputs": [
    {
     "data": {
      "text/plain": [
       "10×5 Matrix{Float64}:\n",
       "  44.2964   23.3929    52.8565   12.0512   46.4031\n",
       " -17.2072  -28.5067   -12.5801  -34.6375  -16.0685\n",
       "  28.5771  -22.0483    49.3085  -49.5165   33.6792\n",
       "  66.1211   43.6807    75.3106   31.505    68.3827\n",
       "  49.3497  -38.1124    85.1659  -85.5674   58.1642\n",
       "  15.2188  -41.9058    38.6116  -72.9003   20.9758\n",
       " -20.8761    2.9298   -30.6247   15.8463  -23.2753\n",
       " -14.3249   33.7118   -33.9962   59.7754  -19.1661\n",
       " -36.4358   22.2069   -60.4503   54.0251  -42.3459\n",
       "  33.4899   -4.61952   49.0959  -25.2968   37.3306"
      ]
     },
     "metadata": {},
     "output_type": "display_data"
    }
   ],
   "source": [
    "X = rand(-100:100, 5, 10)'\n",
    "M = fit(PCA, X; maxoutdim=1)\n",
    "A = predict(M, X)\n",
    "Xre = reconstruct(M, A)"
   ]
  },
  {
   "cell_type": "code",
   "execution_count": 97,
   "metadata": {},
   "outputs": [
    {
     "data": {
      "text/plain": [
       "1×10 adjoint(::Matrix{Int64}) with eltype Int64:\n",
       " 179  -109  40  285  69  -40  -56  26  -63  90"
      ]
     },
     "metadata": {},
     "output_type": "display_data"
    }
   ],
   "source": [
    "sum(X, dims=2)'"
   ]
  },
  {
   "cell_type": "code",
   "execution_count": 98,
   "metadata": {},
   "outputs": [
    {
     "data": {
      "text/plain": [
       "1×10 adjoint(::Matrix{Float64}) with eltype Float64:\n",
       " 179.0  -109.0  40.0  285.0  69.0  -40.0  -56.0  26.0  -63.0  90.0"
      ]
     },
     "metadata": {},
     "output_type": "display_data"
    }
   ],
   "source": [
    "sum(Xre, dims=2)'"
   ]
  },
  {
   "cell_type": "code",
   "execution_count": 99,
   "metadata": {},
   "outputs": [
    {
     "data": {
      "text/plain": [
       "1×5 Matrix{Int64}:\n",
       " 120  262  243  -269  65"
      ]
     },
     "metadata": {},
     "output_type": "display_data"
    }
   ],
   "source": [
    "sum(X, dims=1)"
   ]
  },
  {
   "cell_type": "code",
   "execution_count": 100,
   "metadata": {},
   "outputs": [
    {
     "data": {
      "text/plain": [
       "1×5 Matrix{Float64}:\n",
       " 148.209  -9.27074  212.698  -94.7156  164.08"
      ]
     },
     "metadata": {},
     "output_type": "display_data"
    }
   ],
   "source": [
    "sum(Xre, dims=1)"
   ]
  }
 ],
 "metadata": {
  "kernelspec": {
   "display_name": "Julia 1.10.3",
   "language": "julia",
   "name": "julia-1.10"
  },
  "language_info": {
   "file_extension": ".jl",
   "mimetype": "application/julia",
   "name": "julia",
   "version": "1.10.3"
  }
 },
 "nbformat": 4,
 "nbformat_minor": 2
}
