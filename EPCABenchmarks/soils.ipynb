{
 "cells": [
  {
   "cell_type": "code",
   "execution_count": 91,
   "metadata": {},
   "outputs": [],
   "source": [
    "using RDatasets, LinearAlgebra"
   ]
  },
  {
   "cell_type": "markdown",
   "metadata": {},
   "source": [
    "Let's compare how Poisson EPCA performs against vanilla PCA on compositional data. For this example, we use the [Chemical Composition of Pottery](https://vincentarelbundock.github.io/Rdatasets/doc/carData/Pottery.html) dataset from RDatasets. More information about the dataset can be found on the doc. "
   ]
  },
  {
   "cell_type": "code",
   "execution_count": 92,
   "metadata": {},
   "outputs": [
    {
     "data": {
      "text/plain": [
       "26×5 Matrix{Float64}:\n",
       " 0.546282  0.265554   0.163126   0.00569044   0.0193475\n",
       " 0.560976  0.287805   0.139431   0.00487805   0.00691057\n",
       " 0.563707  0.273745   0.149807   0.00501931   0.00772201\n",
       " 0.48299   0.267535   0.236875   0.00671987   0.00587988\n",
       " 0.518797  0.265414   0.200752   0.0075188    0.0075188\n",
       " 0.518554  0.297812   0.165081   0.00808754   0.0104662\n",
       " 0.531579  0.224211   0.224211   0.0105263    0.00947368\n",
       " 0.490901  0.244604   0.250106   0.00761744   0.00677105\n",
       " 0.511521  0.252995   0.208295   0.0133641    0.0138249\n",
       " 0.478059  0.246878   0.257938   0.0099893    0.00713521\n",
       " ⋮                                            \n",
       " 0.837308  0.126656   0.0333863  0.000529942  0.00211977\n",
       " 0.889328  0.0741107  0.0331028  0.000494071  0.00296443\n",
       " 0.873362  0.0912179  0.0329937  0.000485201  0.00194081\n",
       " 0.896552  0.0650862  0.0310345  0.00301724   0.00431034\n",
       " 0.907692  0.0574359  0.0287179  0.00307692   0.00307692\n",
       " 0.905045  0.0563798  0.0331355  0.00296736   0.0024728\n",
       " 0.917079  0.0505217  0.0291049  0.000549149  0.00274574\n",
       " 0.809185  0.149809   0.036632   0.00164024   0.00273373\n",
       " 0.889613  0.0763857  0.027946   0.00465766   0.0013973"
      ]
     },
     "metadata": {},
     "output_type": "display_data"
    }
   ],
   "source": [
    "soils = dataset(\"car\", \"Pottery\")\n",
    "labels = Vector(soils[:, 1])\n",
    "compositions = Matrix(soils[:, 2:end])\n",
    "normalized_compositions = compositions ./ sum(compositions, dims=2)"
   ]
  },
  {
   "cell_type": "code",
   "execution_count": 93,
   "metadata": {},
   "outputs": [],
   "source": [
    "using Revise\n",
    "using ExpFamilyPCA"
   ]
  },
  {
   "cell_type": "code",
   "execution_count": 94,
   "metadata": {},
   "outputs": [
    {
     "name": "stdout",
     "output_type": "stream",
     "text": [
      "Iteration: 1/20 | Loss: 1.1906795777415402\n",
      "Iteration: 10/20 | Loss: 0.040218941006744516\n",
      "Iteration: 20/20 | Loss: 0.034536886863912195\n"
     ]
    },
    {
     "data": {
      "text/plain": [
       "26×5 Matrix{Float64}:\n",
       " 0.556976  0.267691   0.171382   0.00844586  0.00928941\n",
       " 0.5643    0.285017   0.140637   0.00595775  0.00715463\n",
       " 0.556028  0.276763   0.146026   0.00615782  0.00722424\n",
       " 0.486302  0.270059   0.230344   0.00963931  0.00959326\n",
       " 0.514841  0.268243   0.198478   0.00871272  0.00910731\n",
       " 0.541308  0.300338   0.172134   0.00754753  0.0086219\n",
       " 0.50868   0.219271   0.215575   0.0103699   0.00982097\n",
       " 0.48038   0.244849   0.242217   0.0104813   0.00990697\n",
       " 0.510686  0.250528   0.212267   0.00982573  0.0098037\n",
       " 0.475889  0.247087   0.256547   0.0113141   0.0105228\n",
       " ⋮                                           \n",
       " 0.839833  0.12534    0.0339065  0.00177103  0.00258914\n",
       " 0.878189  0.0747451  0.0303142  0.00190268  0.00241077\n",
       " 0.862827  0.0941695  0.0294158  0.0015961   0.00221385\n",
       " 0.902971  0.0649694  0.0330551  0.00253879  0.00297904\n",
       " 0.909828  0.0555374  0.02946    0.00218594  0.00252212\n",
       " 0.904918  0.0567702  0.032003   0.00249673  0.00282414\n",
       " 0.93351   0.0518958  0.0296744  0.002446    0.0027519\n",
       " 0.804796  0.149136   0.0372861  0.00176756  0.00265761\n",
       " 0.886961  0.0742489  0.0291934  0.00183144  0.00234499"
      ]
     },
     "metadata": {},
     "output_type": "display_data"
    }
   ],
   "source": [
    "epca = PoissonEPCA()\n",
    "A1 = fit!(epca, normalized_compositions; maxoutdim=3, verbose=true, maxiter=20)\n",
    "Xre1 = decompress(epca, A)"
   ]
  },
  {
   "cell_type": "code",
   "execution_count": 95,
   "metadata": {},
   "outputs": [],
   "source": [
    "using MultivariateStats"
   ]
  },
  {
   "cell_type": "code",
   "execution_count": 96,
   "metadata": {},
   "outputs": [
    {
     "data": {
      "text/plain": [
       "26×5 Matrix{Float64}:\n",
       " 0.547151  0.248102   0.184304    0.0100833     0.0103599\n",
       " 0.562799  0.251017   0.184079    0.000908299   0.00119714\n",
       " 0.565004  0.24758    0.181563    0.00278131    0.00307266\n",
       " 0.482157  0.284357   0.216459    0.00840603    0.00862165\n",
       " 0.518758  0.266193   0.199805    0.00749671    0.00774617\n",
       " 0.520019  0.268247   0.200962    0.00526089    0.00551098\n",
       " 0.530165  0.25274    0.189585    0.013624      0.0138855\n",
       " 0.489295  0.277021   0.210763    0.0113491     0.0115721\n",
       " 0.511095  0.261589   0.197865    0.0146034     0.0148475\n",
       " 0.476329  0.28178    0.21558     0.01305       0.0132613\n",
       " ⋮                                             \n",
       " 0.838196  0.108728   0.0551447  -0.00130695   -0.000762323\n",
       " 0.889138  0.0779635  0.0284262   0.00193981    0.00253266\n",
       " 0.873525  0.0879417  0.0369696   0.000492827   0.00107078\n",
       " 0.896235  0.0714741  0.0232815   0.00420446    0.00480446\n",
       " 0.907266  0.0660332  0.0182839   0.00390331    0.00451351\n",
       " 0.904492  0.067519   0.0196165   0.00388231    0.00448992\n",
       " 0.916491  0.0623955  0.0146936   0.00290079    0.00351933\n",
       " 0.810485  0.123581   0.0684639  -0.0015242    -0.00100542\n",
       " 0.889596  0.0767089  0.0275546   0.00277345    0.00336692"
      ]
     },
     "metadata": {},
     "output_type": "display_data"
    }
   ],
   "source": [
    "M = fit(PCA, normalized_compositions; maxoutdim=3)\n",
    "A2 = predict(M, normalized_compositions)\n",
    "Xre2 = reconstruct(M, A2)"
   ]
  },
  {
   "cell_type": "markdown",
   "metadata": {},
   "source": [
    "We can immediately see that Poisson EPCA does better at compressing composition data. The PCA reconstruction contains negative values. Surprisingly, the reconstructed rows sums to around one in both."
   ]
  },
  {
   "cell_type": "code",
   "execution_count": 97,
   "metadata": {},
   "outputs": [
    {
     "data": {
      "text/plain": [
       "1×26 adjoint(::Matrix{Float64}) with eltype Float64:\n",
       " 1.01378  1.00307  0.992199  1.00594  0.999382  …  1.02028  0.995643  0.99458"
      ]
     },
     "metadata": {},
     "output_type": "display_data"
    }
   ],
   "source": [
    "sum(Xre1, dims=2)'"
   ]
  },
  {
   "cell_type": "code",
   "execution_count": 98,
   "metadata": {},
   "outputs": [
    {
     "data": {
      "text/plain": [
       "1×26 adjoint(::Matrix{Float64}) with eltype Float64:\n",
       " 1.0  1.0  1.0  1.0  1.0  1.0  1.0  1.0  …  1.0  1.0  1.0  1.0  1.0  1.0  1.0"
      ]
     },
     "metadata": {},
     "output_type": "display_data"
    }
   ],
   "source": [
    "sum(Xre2, dims=2)'"
   ]
  },
  {
   "cell_type": "code",
   "execution_count": 99,
   "metadata": {},
   "outputs": [],
   "source": [
    "using Statistics"
   ]
  },
  {
   "cell_type": "code",
   "execution_count": 100,
   "metadata": {},
   "outputs": [
    {
     "name": "stdout",
     "output_type": "stream",
     "text": [
      "mean(kl1) = 0.0017301866573429777\n",
      "mean(kl2) = 0.004455817802528197\n"
     ]
    }
   ],
   "source": [
    "kl(p, q) = sum(p .* log.(p ./ q))\n",
    "\n",
    "# TODO: perform this analysis w/ different numbers of bases\n",
    "kl1 = []\n",
    "kl2 = []\n",
    "for (p1, p2, q) in zip(eachrow(Xre1), eachrow(Xre2), eachrow(normalized_compositions))\n",
    "    if any(p2 .< 0)\n",
    "        continue\n",
    "    end\n",
    "    push!(kl1, kl(p1, q))\n",
    "    push!(kl2, kl(p2, q))\n",
    "end\n",
    "@show mean(kl1)\n",
    "@show mean(kl2);"
   ]
  }
 ],
 "metadata": {
  "kernelspec": {
   "display_name": "Julia 1.10.3",
   "language": "julia",
   "name": "julia-1.10"
  },
  "language_info": {
   "file_extension": ".jl",
   "mimetype": "application/julia",
   "name": "julia",
   "version": "1.10.3"
  }
 },
 "nbformat": 4,
 "nbformat_minor": 2
}
